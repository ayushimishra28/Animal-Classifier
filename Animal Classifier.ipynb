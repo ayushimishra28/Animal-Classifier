{
 "cells": [
  {
   "cell_type": "markdown",
   "metadata": {},
   "source": [
    "# Animal Classifier"
   ]
  },
  {
   "cell_type": "markdown",
   "metadata": {},
   "source": [
    "In this notebook we build a model using tensorflow that can classify animals."
   ]
  },
  {
   "cell_type": "markdown",
   "metadata": {},
   "source": [
    "## Importing Libraries"
   ]
  },
  {
   "cell_type": "code",
   "execution_count": 1,
   "metadata": {},
   "outputs": [],
   "source": [
    "import tensorflow as tf\n",
    "from tensorflow.keras.layers import Dense, Flatten ,Dropout, Conv2D, MaxPooling2D\n",
    "from tensorflow.keras.models import Sequential\n",
    "import numpy as np\n",
    "import os \n",
    "import random\n",
    "import cv2\n",
    "from sklearn.model_selection import train_test_split"
   ]
  },
  {
   "cell_type": "markdown",
   "metadata": {},
   "source": [
    "## Creating training dataset"
   ]
  },
  {
   "cell_type": "code",
   "execution_count": 2,
   "metadata": {},
   "outputs": [],
   "source": [
    "categories=['butterfly','cat','cock','cow','dog','elephant','horse','sheep','spider','squirrel']\n",
    "img_size=100\n",
    "datadir='D:\\\\ml_models\\\\Animal Classifier\\\\raw-img'\n",
    "data=[]\n",
    "def create_data():\n",
    "    for category in categories:\n",
    "        path=os.path.join(datadir,category)\n",
    "        class_num =categories.index(category)\n",
    "        for img in os.listdir(path):\n",
    "            try:\n",
    "                img_array=cv2.imread(os.path.join(path,img),cv2.IMREAD_GRAYSCALE)\n",
    "                new_img_array=cv2.resize(img_array,(img_size,img_size))\n",
    "                data.append([new_img_array,class_num])\n",
    "            except Exception as e:\n",
    "                pass\n",
    "create_data()            "
   ]
  },
  {
   "cell_type": "code",
   "execution_count": 3,
   "metadata": {},
   "outputs": [],
   "source": [
    "random.shuffle(data)\n",
    "x=[]\n",
    "y=[]\n",
    "for features,labels in data:\n",
    "    x.append(features)\n",
    "    y.append(labels)"
   ]
  },
  {
   "cell_type": "code",
   "execution_count": 4,
   "metadata": {},
   "outputs": [],
   "source": [
    "x=np.array(x).reshape(-1,img_size,img_size,1)\n",
    "y=np.array(y)\n"
   ]
  },
  {
   "cell_type": "markdown",
   "metadata": {},
   "source": [
    "# Building and Fitting Model using CNN"
   ]
  },
  {
   "cell_type": "code",
   "execution_count": null,
   "metadata": {},
   "outputs": [],
   "source": [
    "model = Sequential()\n",
    "model.add(Conv2D(16, (3, 3), activation='relu', padding='same', input_shape=x_train.shape[1:]))\n",
    "model.add(Conv2D(16, (3, 3), activation='relu', padding='same'))\n",
    "model.add(MaxPooling2D(pool_size=(2,2), strides=None, padding='valid'))\n",
    "model.add(Conv2D(32, (3, 3), activation='relu', padding='same'))\n",
    "model.add(Conv2D(32, (3, 3), activation='relu', padding='same'))\n",
    "model.add(MaxPooling2D(pool_size=(2,2), strides=None, padding='valid'))\n",
    "model.add(Conv2D(64, (3, 3), activation='relu', padding='same'))\n",
    "model.add(Conv2D(64, (3, 3), activation='relu', padding='same'))\n",
    "model.add(MaxPooling2D(pool_size=(2,2), strides=None, padding='valid'))\n",
    "model.add(Conv2D(128, (3, 3), activation='relu', padding='same'))\n",
    "model.add(Conv2D(128, (3, 3), activation='relu', padding='same'))\n",
    "model.add(MaxPooling2D(pool_size=(2,2), strides=None, padding='valid'))\n",
    "model.add(Flatten())\n",
    "model.add(Dense(256, activation='relu'))"
   ]
  },
  {
   "cell_type": "code",
   "execution_count": 15,
   "metadata": {},
   "outputs": [
    {
     "name": "stdout",
     "output_type": "stream",
     "text": [
      "Train on 26179 samples\n",
      "Epoch 1/50\n",
      "26179/26179 [==============================] - 450s 17ms/sample - loss: 3.3425 - accuracy: 0.2444\n",
      "Epoch 2/50\n",
      "26179/26179 [==============================] - 440s 17ms/sample - loss: 2.3423 - accuracy: 0.3887\n",
      "Epoch 3/50\n",
      "26179/26179 [==============================] - 433s 17ms/sample - loss: 1.9960 - accuracy: 0.4606\n",
      "Epoch 4/50\n",
      "26179/26179 [==============================] - 430s 16ms/sample - loss: 1.7788 - accuracy: 0.5020\n",
      "Epoch 5/50\n",
      "26179/26179 [==============================] - 433s 17ms/sample - loss: 1.6052 - accuracy: 0.5384\n",
      "Epoch 6/50\n",
      "26179/26179 [==============================] - 426s 16ms/sample - loss: 1.5045 - accuracy: 0.5565\n",
      "Epoch 7/50\n",
      "26179/26179 [==============================] - 426s 16ms/sample - loss: 1.3852 - accuracy: 0.5873\n",
      "Epoch 8/50\n",
      "26179/26179 [==============================] - 565s 22ms/sample - loss: 1.2981 - accuracy: 0.6076\n",
      "Epoch 9/50\n",
      "26179/26179 [==============================] - 544s 21ms/sample - loss: 1.2151 - accuracy: 0.6309\n",
      "Epoch 10/50\n",
      "26179/26179 [==============================] - 456s 17ms/sample - loss: 1.1611 - accuracy: 0.6409\n",
      "Epoch 11/50\n",
      "26179/26179 [==============================] - 462s 18ms/sample - loss: 1.0860 - accuracy: 0.6586\n",
      "Epoch 12/50\n",
      "26179/26179 [==============================] - 320s 12ms/sample - loss: 1.0552 - accuracy: 0.6704\n",
      "Epoch 13/50\n",
      "26179/26179 [==============================] - 316s 12ms/sample - loss: 1.0122 - accuracy: 0.6824\n",
      "Epoch 14/50\n",
      "26179/26179 [==============================] - 316s 12ms/sample - loss: 0.9991 - accuracy: 0.6889\n",
      "Epoch 15/50\n",
      "26179/26179 [==============================] - 315s 12ms/sample - loss: 0.9542 - accuracy: 0.6980\n",
      "Epoch 16/50\n",
      "26179/26179 [==============================] - 315s 12ms/sample - loss: 0.8767 - accuracy: 0.7148\n",
      "Epoch 17/50\n",
      "26179/26179 [==============================] - 315s 12ms/sample - loss: 0.8319 - accuracy: 0.7306\n",
      "Epoch 18/50\n",
      "26179/26179 [==============================] - 313s 12ms/sample - loss: 0.8236 - accuracy: 0.7330\n",
      "Epoch 19/50\n",
      "26179/26179 [==============================] - 398s 15ms/sample - loss: 0.8401 - accuracy: 0.7359\n",
      "Epoch 20/50\n",
      "26179/26179 [==============================] - 454s 17ms/sample - loss: 0.7786 - accuracy: 0.7522\n",
      "Epoch 21/50\n",
      "26179/26179 [==============================] - 443s 17ms/sample - loss: 0.7415 - accuracy: 0.7614\n",
      "Epoch 22/50\n",
      "26179/26179 [==============================] - 435s 17ms/sample - loss: 0.7528 - accuracy: 0.7592\n",
      "Epoch 23/50\n",
      "26179/26179 [==============================] - 1281s 49ms/sample - loss: 0.6901 - accuracy: 0.7724\n",
      "Epoch 24/50\n",
      "26179/26179 [==============================] - 308s 12ms/sample - loss: 0.6332 - accuracy: 0.7872\n",
      "Epoch 25/50\n",
      "26179/26179 [==============================] - 340s 13ms/sample - loss: 0.6439 - accuracy: 0.7882\n",
      "Epoch 26/50\n",
      "26179/26179 [==============================] - 356s 14ms/sample - loss: 0.6131 - accuracy: 0.7953\n",
      "Epoch 27/50\n",
      "26179/26179 [==============================] - 359s 14ms/sample - loss: 0.5606 - accuracy: 0.8089\n",
      "Epoch 28/50\n",
      "26179/26179 [==============================] - 361s 14ms/sample - loss: 0.5670 - accuracy: 0.8098\n",
      "Epoch 29/50\n",
      "26179/26179 [==============================] - 364s 14ms/sample - loss: 0.5523 - accuracy: 0.8133\n",
      "Epoch 30/50\n",
      "26179/26179 [==============================] - 367s 14ms/sample - loss: 0.5102 - accuracy: 0.8264\n",
      "Epoch 31/50\n",
      "26179/26179 [==============================] - 374s 14ms/sample - loss: 0.5170 - accuracy: 0.8270\n",
      "Epoch 32/50\n",
      "26179/26179 [==============================] - 372s 14ms/sample - loss: 0.5163 - accuracy: 0.8283\n",
      "Epoch 33/50\n",
      "26179/26179 [==============================] - 372s 14ms/sample - loss: 0.4883 - accuracy: 0.8361\n",
      "Epoch 34/50\n",
      "26179/26179 [==============================] - 377s 14ms/sample - loss: 0.4780 - accuracy: 0.8376\n",
      "Epoch 35/50\n",
      "26179/26179 [==============================] - 374s 14ms/sample - loss: 0.4507 - accuracy: 0.8474\n",
      "Epoch 36/50\n",
      "26179/26179 [==============================] - 377s 14ms/sample - loss: 0.4426 - accuracy: 0.8510\n",
      "Epoch 37/50\n",
      "26179/26179 [==============================] - 374s 14ms/sample - loss: 0.4162 - accuracy: 0.8587\n",
      "Epoch 38/50\n",
      "26179/26179 [==============================] - 375s 14ms/sample - loss: 0.3942 - accuracy: 0.8659\n",
      "Epoch 39/50\n",
      "26179/26179 [==============================] - 374s 14ms/sample - loss: 0.3693 - accuracy: 0.8728\n",
      "Epoch 40/50\n",
      "26179/26179 [==============================] - 1035s 40ms/sample - loss: 0.3644 - accuracy: 0.8736\n",
      "Epoch 41/50\n",
      "26179/26179 [==============================] - 290s 11ms/sample - loss: 0.3767 - accuracy: 0.8683\n",
      "Epoch 42/50\n",
      "26179/26179 [==============================] - 291s 11ms/sample - loss: 0.3545 - accuracy: 0.8767\n",
      "Epoch 43/50\n",
      "26179/26179 [==============================] - 289s 11ms/sample - loss: 0.3475 - accuracy: 0.8812\n",
      "Epoch 44/50\n",
      "26179/26179 [==============================] - 288s 11ms/sample - loss: 0.3499 - accuracy: 0.8786\n",
      "Epoch 45/50\n",
      "26179/26179 [==============================] - 290s 11ms/sample - loss: 0.3512 - accuracy: 0.8773\n",
      "Epoch 46/50\n",
      "26179/26179 [==============================] - 3413s 130ms/sample - loss: 0.3236 - accuracy: 0.8883\n",
      "Epoch 47/50\n",
      "26179/26179 [==============================] - 291s 11ms/sample - loss: 0.3147 - accuracy: 0.8912\n",
      "Epoch 48/50\n",
      "26179/26179 [==============================] - 297s 11ms/sample - loss: 0.3040 - accuracy: 0.8963\n",
      "Epoch 49/50\n",
      "26179/26179 [==============================] - 311s 12ms/sample - loss: 0.2921 - accuracy: 0.8976\n",
      "Epoch 50/50\n",
      "26179/26179 [==============================] - 327s 13ms/sample - loss: 0.2990 - accuracy: 0.8976\n"
     ]
    },
    {
     "data": {
      "text/plain": [
       "<tensorflow.python.keras.callbacks.History at 0x170f6ba8b88>"
      ]
     },
     "execution_count": 15,
     "metadata": {},
     "output_type": "execute_result"
    }
   ],
   "source": [
    "model.fit(x,y,epochs=50,batch_size=1000)"
   ]
  },
  {
   "cell_type": "markdown",
   "metadata": {},
   "source": [
    "# model with approx 90%"
   ]
  },
  {
   "cell_type": "code",
   "execution_count": 1,
   "metadata": {},
   "outputs": [],
   "source": [
    "# save the model to json file \n",
    "# for prediction use model.json"
   ]
  },
  {
   "cell_type": "code",
   "execution_count": null,
   "metadata": {},
   "outputs": [],
   "source": []
  }
 ],
 "metadata": {
  "kernelspec": {
   "display_name": "Python 3",
   "language": "python",
   "name": "python3"
  },
  "language_info": {
   "codemirror_mode": {
    "name": "ipython",
    "version": 3
   },
   "file_extension": ".py",
   "mimetype": "text/x-python",
   "name": "python",
   "nbconvert_exporter": "python",
   "pygments_lexer": "ipython3",
   "version": "3.7.3"
  }
 },
 "nbformat": 4,
 "nbformat_minor": 2
}
